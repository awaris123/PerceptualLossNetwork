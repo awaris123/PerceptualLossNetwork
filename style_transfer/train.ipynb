{
 "cells": [
  {
   "cell_type": "code",
   "execution_count": 5,
   "id": "c5a634fd",
   "metadata": {},
   "outputs": [],
   "source": [
    "from generator import Generator, load_rgb_img\n",
    "from ImageTransformationNN import ImageTransformationNN\n",
    "from VGG16 import VGG16LossNN"
   ]
  },
  {
   "cell_type": "code",
   "execution_count": 7,
   "id": "9c96f755",
   "metadata": {},
   "outputs": [],
   "source": [
    "class StyleTransferFactory(object):\n",
    "    \n",
    "    def __init__(self, DATA_DIR, STYLE_PATH, BATCH_SIZE):\n",
    "        self.loss_net = VGG16LossNN()\n",
    "        self.transformer = ImageTransformationNN()\n",
    "        self.gen = Generator(DATA_DIR, BATCH_SIZE)\n",
    "        self.style = load_rgb_img(STYLE_PATH)\n",
    "    \n",
    "    \n",
    "    def train(self):\n",
    "        \n",
    "        '''\n",
    "        Should train network and\n",
    "        - save model file\n",
    "        - save training info, validaiton loss, etc\n",
    "        '''\n",
    "        \n",
    "        pass"
   ]
  },
  {
   "cell_type": "code",
   "execution_count": null,
   "id": "1766aab8",
   "metadata": {},
   "outputs": [],
   "source": []
  }
 ],
 "metadata": {
  "kernelspec": {
   "display_name": "dl-proj",
   "language": "python",
   "name": "dl-proj"
  },
  "language_info": {
   "codemirror_mode": {
    "name": "ipython",
    "version": 3
   },
   "file_extension": ".py",
   "mimetype": "text/x-python",
   "name": "python",
   "nbconvert_exporter": "python",
   "pygments_lexer": "ipython3",
   "version": "3.8.8"
  }
 },
 "nbformat": 4,
 "nbformat_minor": 5
}
