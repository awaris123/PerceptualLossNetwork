{
 "cells": [
  {
   "cell_type": "code",
   "execution_count": 5,
   "id": "bd2c2109",
   "metadata": {},
   "outputs": [],
   "source": [
    "import torch\n",
    "# Architecture Guidelines\n",
    "# https://arxiv.org/pdf/1511.06434.pdf"
   ]
  },
  {
   "cell_type": "code",
   "execution_count": 2,
   "id": "47725b39",
   "metadata": {},
   "outputs": [],
   "source": [
    "class ImageTransformationNN(torch.nn.Module):\n",
    "    pass"
   ]
  },
  {
   "cell_type": "code",
   "execution_count": null,
   "id": "0a41da2c",
   "metadata": {},
   "outputs": [],
   "source": []
  },
  {
   "cell_type": "code",
   "execution_count": 4,
   "id": "ae767bcd",
   "metadata": {},
   "outputs": [],
   "source": [
    "# Residual Block\n",
    "# http://torch.ch/blog/2016/02/04/resnets.html\n",
    "# There should be 5 of these\n",
    "class ResidualBlock(torch.nn.Module):\n",
    "    pass"
   ]
  },
  {
   "cell_type": "code",
   "execution_count": null,
   "id": "91a6f844",
   "metadata": {},
   "outputs": [],
   "source": []
  }
 ],
 "metadata": {
  "kernelspec": {
   "display_name": "dl-proj",
   "language": "python",
   "name": "dl-proj"
  },
  "language_info": {
   "codemirror_mode": {
    "name": "ipython",
    "version": 3
   },
   "file_extension": ".py",
   "mimetype": "text/x-python",
   "name": "python",
   "nbconvert_exporter": "python",
   "pygments_lexer": "ipython3",
   "version": "3.8.8"
  }
 },
 "nbformat": 4,
 "nbformat_minor": 5
}
