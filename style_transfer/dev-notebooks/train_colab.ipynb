{
  "nbformat": 4,
  "nbformat_minor": 5,
  "metadata": {
    "kernelspec": {
      "display_name": "Python 3",
      "language": "python",
      "name": "python3"
    },
    "language_info": {
      "codemirror_mode": {
        "name": "ipython",
        "version": 3
      },
      "file_extension": ".py",
      "mimetype": "text/x-python",
      "name": "python",
      "nbconvert_exporter": "python",
      "pygments_lexer": "ipython3",
      "version": "3.7.4"
    },
    "colab": {
      "name": "train_colab.ipynb",
      "provenance": [],
      "collapsed_sections": [],
      "toc_visible": true
    },
    "accelerator": "GPU"
  },
  "cells": [
    {
      "cell_type": "code",
      "metadata": {
        "id": "_Lp4ythDaMB1"
      },
      "source": [
        "from generator import Generator, load_rgb_img\n",
        "from ImageTransformationNN import ImageTransformationNN\n",
        "from VGG16 import VGG16LossNN\n",
        "\n",
        "import torch, time, argparse, os\n",
        "\n",
        "from torch.optim import Adam\n",
        "from torch.nn import MSELoss\n",
        "\n",
        "from torchvision import transforms\n",
        "\n",
        "from torch.autograd import set_detect_anomaly, Variable\n",
        "\n",
        "from torchsummary import summary\n",
        "import numpy as np"
      ],
      "id": "_Lp4ythDaMB1",
      "execution_count": 21,
      "outputs": []
    },
    {
      "cell_type": "code",
      "metadata": {
        "colab": {
          "base_uri": "https://localhost:8080/"
        },
        "id": "n7Hw0VV0agBu",
        "outputId": "adee8478-7891-4900-a08b-ccea8d25397e"
      },
      "source": [
        "from google.colab import drive\n",
        "drive.mount('/content/drive')"
      ],
      "id": "n7Hw0VV0agBu",
      "execution_count": 2,
      "outputs": [
        {
          "output_type": "stream",
          "text": [
            "Drive already mounted at /content/drive; to attempt to forcibly remount, call drive.mount(\"/content/drive\", force_remount=True).\n"
          ],
          "name": "stdout"
        }
      ]
    },
    {
      "cell_type": "code",
      "metadata": {
        "colab": {
          "base_uri": "https://localhost:8080/"
        },
        "id": "_FOljj_beTM-",
        "outputId": "19dc0951-5f8f-4573-9c89-e689a5e39715"
      },
      "source": [
        "torch.cuda.is_available()"
      ],
      "id": "_FOljj_beTM-",
      "execution_count": 3,
      "outputs": [
        {
          "output_type": "execute_result",
          "data": {
            "text/plain": [
              "True"
            ]
          },
          "metadata": {
            "tags": []
          },
          "execution_count": 3
        }
      ]
    },
    {
      "cell_type": "code",
      "metadata": {
        "colab": {
          "base_uri": "https://localhost:8080/",
          "height": 35
        },
        "id": "6Ywm_n_lecWU",
        "outputId": "512b1540-55aa-4604-aa01-53114dcbc926"
      },
      "source": [
        "torch.cuda.get_device_name(0)"
      ],
      "id": "6Ywm_n_lecWU",
      "execution_count": 4,
      "outputs": [
        {
          "output_type": "execute_result",
          "data": {
            "application/vnd.google.colaboratory.intrinsic+json": {
              "type": "string"
            },
            "text/plain": [
              "'Tesla V100-SXM2-16GB'"
            ]
          },
          "metadata": {
            "tags": []
          },
          "execution_count": 4
        }
      ]
    },
    {
      "cell_type": "code",
      "metadata": {
        "id": "OQeMk37qaMB3"
      },
      "source": [
        "# To be moved to utils.py\n",
        "\n",
        "def gram_matrix(y):\n",
        "    (b, ch, h, w) = y.size()\n",
        "    features = y.view(b, ch, w * h)\n",
        "    features_t = features.transpose(1, 2)\n",
        "    gram = features.bmm(features_t) / (ch * h * w)\n",
        "    return gram\n",
        "\n",
        "def normalize_batch(batch):\n",
        "    # normalize using imagenet mean and std\n",
        "    mean = batch.new_tensor([0.485, 0.456, 0.406]).view(-1, 1, 1)\n",
        "    std = batch.new_tensor([0.229, 0.224, 0.225]).view(-1, 1, 1)\n",
        "    batch = batch.div_(255.0)\n",
        "    res = (batch - mean) / std\n",
        "    #print('r', res.size())\n",
        "    return res\n",
        "    "
      ],
      "id": "OQeMk37qaMB3",
      "execution_count": 5,
      "outputs": []
    },
    {
      "cell_type": "code",
      "metadata": {
        "id": "IV4oWmmIaMB4"
      },
      "source": [
        "ALI_DATA_DIR=r\"/content/drive/MyDrive/Coco/Train_images_1/\"\n",
        "ALI_STYLE_DIR=r\"/content/drive/MyDrive/Coco/styles/\"\n",
        "ALI_STYLE_PATH = f\"{ALI_STYLE_DIR}/mosaic.jpeg\"\n",
        "BATCH_SIZE = 4\n",
        "DIM = 256"
      ],
      "id": "IV4oWmmIaMB4",
      "execution_count": 6,
      "outputs": []
    },
    {
      "cell_type": "code",
      "metadata": {
        "colab": {
          "base_uri": "https://localhost:8080/",
          "height": 106
        },
        "id": "Ds6DRJFwaMB4",
        "outputId": "958b0166-7bd2-4bb8-aeb4-80f04e6540c1"
      },
      "source": [
        "# Parser: Temporarily disabled for jupyter notebook\n",
        "\"\"\"parser = argparse.ArgumentParser(description='Arguments for the network.')\n",
        "\n",
        "parser.add_argument('learning_rate', type=float,\n",
        "                    help='Learning rate')\n",
        "\n",
        "parser.add_argument('epochs', type=int,\n",
        "                    help='Number of epochs')\n",
        "\n",
        "parser.add_argument('content_weights', type=int,\n",
        "                    help='Content weights')\n",
        "\n",
        "parser.add_argument('log_interval', type=int,\n",
        "                    help='Integer for Log interval')\n",
        "\n",
        "parser.add_argument('checkpoint_model_dir', type=str,\n",
        "                    help='Path for checkpoints directory')  \n",
        "\n",
        "parser.add_argument('checkpoint_interval', type=int,\n",
        "                    help='Integer for checkpoints interval') \n",
        "\n",
        "args = parser.parse_args()\"\"\""
      ],
      "id": "Ds6DRJFwaMB4",
      "execution_count": 7,
      "outputs": [
        {
          "output_type": "execute_result",
          "data": {
            "application/vnd.google.colaboratory.intrinsic+json": {
              "type": "string"
            },
            "text/plain": [
              "\"parser = argparse.ArgumentParser(description='Arguments for the network.')\\n\\nparser.add_argument('learning_rate', type=float,\\n                    help='Learning rate')\\n\\nparser.add_argument('epochs', type=int,\\n                    help='Number of epochs')\\n\\nparser.add_argument('content_weights', type=int,\\n                    help='Content weights')\\n\\nparser.add_argument('log_interval', type=int,\\n                    help='Integer for Log interval')\\n\\nparser.add_argument('checkpoint_model_dir', type=str,\\n                    help='Path for checkpoints directory')  \\n\\nparser.add_argument('checkpoint_interval', type=int,\\n                    help='Integer for checkpoints interval') \\n\\nargs = parser.parse_args()\""
            ]
          },
          "metadata": {
            "tags": []
          },
          "execution_count": 7
        }
      ]
    },
    {
      "cell_type": "code",
      "metadata": {
        "id": "YGJrUrlhaMB5"
      },
      "source": [
        "class StyleTransferFactory(object):\n",
        "    \n",
        "    def __init__(self, DATA_DIR, STYLE_PATH, BATCH_SIZE):\n",
        "        self.loss_net = VGG16LossNN()\n",
        "        self.transformer = ImageTransformationNN()\n",
        "        self.gen = Generator(DATA_DIR, BATCH_SIZE)\n",
        "        self.style = load_rgb_img(STYLE_PATH)    \n",
        "    \n",
        "    def train(self):\n",
        "        \n",
        "        '''\n",
        "        Should train network and\n",
        "        - save model file\n",
        "        - save training info, validaiton loss, etc\n",
        "        '''\n",
        "\n",
        "        \n",
        "        # Parameters ( to be placed in parser )\n",
        "        learning_rate = 1e-3 \n",
        "        epochs = 2\n",
        "        content_weights = 1e5\n",
        "        style_weights = 1e10\n",
        "        log_interval = 1\n",
        "        checkpoint_model_dir = \"/content/drive/MyDrive/style_save/checkpoints\"\n",
        "        checkpoint_interval = 20\n",
        "        #! \n",
        "        \n",
        "        optimizer = Adam(self.transformer.parameters(), learning_rate)\n",
        "\n",
        "        mse_loss = MSELoss()\n",
        "\n",
        "        style_transform = transforms.Compose([\n",
        "        transforms.ToTensor(),\n",
        "        transforms.Lambda(lambda x: x.mul(255))\n",
        "        ])\n",
        "        \n",
        "        style = style_transform(self.style)\n",
        "        style = style.repeat(BATCH_SIZE, 1, 1, 1)\n",
        "        #print('style:', style.shape)\n",
        "        \n",
        "        loss_net_input = normalize_batch(style)\n",
        "        \n",
        "        #print('style:', style.shape)\n",
        "        feature_style = self.loss_net.forward(normalize_batch(style))\n",
        "        \n",
        "        \"\"\"Verification\"\"\"\n",
        "        #for key, value in feature_style.items() :\n",
        "        #    print(key)\n",
        "        \n",
        "        gram_style = [gram_matrix(y) for y in feature_style.values()]\n",
        "        #print('GRAM:', gram_style[0].shape)\n",
        "    \n",
        "        l_total_history, l_feat_history, l_style_history = [], [], []\n",
        "        l_feat_total_history, l_style_total_history, l_total_total_history = [], [], []     \n",
        "                 \n",
        "        for epoch in range(epochs):\n",
        "            with set_detect_anomaly(True):\n",
        "                print('epoch:', epoch)\n",
        "                self.transformer.train()\n",
        "                #print('-------------\\n', self.transformer, '\\n-------------')\n",
        "\n",
        "                l_feat_total = 0.\n",
        "                l_style_total = 0.\n",
        "                count = 0\n",
        "\n",
        "                # To revise\n",
        "                for batch_id, (x, _) in enumerate(self.gen):\n",
        "\n",
        "                    # Add the batch size\n",
        "                    n_batch = len(x)\n",
        "                    count += n_batch\n",
        "\n",
        "                    # Adam\n",
        "                    optimizer.zero_grad()\n",
        "\n",
        "                    y = self.transformer(x)\n",
        "                    \n",
        "                    xc = Variable(x.clone())\n",
        "\n",
        "                    # Normalize batch\n",
        "                    y = normalize_batch(y)\n",
        "                    xc = normalize_batch(xc)\n",
        "\n",
        "                    # Features from the VGG16 network\n",
        "                    features_y = self.loss_net(y)\n",
        "                    features_xc = self.loss_net(xc)\n",
        "                    \n",
        "                    f_xc_c = Variable(features_xc['relu2_2'], requires_grad=False)\n",
        "\n",
        "                    # Update features reconstruction loss\n",
        "                    mse = mse_loss(features_y['relu2_2'], f_xc_c)\n",
        "\n",
        "                    l_feat = content_weights * mse\n",
        "\n",
        "\n",
        "                    l_style = 0.\n",
        "                    \n",
        "                \n",
        "                    for m, k in enumerate(features_y.keys()):\n",
        "                        gram_s = Variable(gram_style[m].data, requires_grad=False)\n",
        "                        gram_y = gram_matrix(features_y[k])\n",
        "                        l_style += style_weights * mse_loss(gram_y, gram_s[:n_batch, :, :])\n",
        "\n",
        "                    l_total = l_feat + l_style\n",
        "\n",
        "\n",
        "\n",
        "                    l_total.backward()\n",
        "                    optimizer.step()\n",
        "\n",
        "                    l_feat_total += l_feat.item()\n",
        "                    l_style_total += l_style.item()\n",
        "\n",
        "\n",
        "                    # Saving losses per item\n",
        "                    l_feat_history.append(l_feat.item())\n",
        "                    l_style_history.append(l_style.item())\n",
        "                    l_total_history.append(l_total.item())\n",
        "\n",
        "                    # Total\n",
        "                    l_feat_total_history.append(l_feat_total / (batch_id + 1))\n",
        "                    l_style_total_history.append(l_style_total / (batch_id + 1))\n",
        "                    l_total_total_history.append((l_feat_total + l_style_total) / (batch_id + 1))\n",
        "\n",
        "                    if (batch_id + 1) % log_interval == 0:\n",
        "                        msg = \"{}\\tEpoch {}:\\t[{}/{}]\\tcontent: {:.6f}\\tstyle: {:.6f}\\ttotal: {:.6f}\".format(\n",
        "                            time.ctime(), epoch + 1, count, len(self.gen.train),\n",
        "                                          l_feat_total / (batch_id + 1),\n",
        "                                          l_style_total / (batch_id + 1),\n",
        "                                          (l_feat_total + l_style_total) / (batch_id + 1)\n",
        "                        )\n",
        "                        print(msg)\n",
        "\n",
        "\n",
        "                    if checkpoint_model_dir is not None and (batch_id + 1) % checkpoint_interval == 0:\n",
        "                        self.transformer.eval().cpu()\n",
        "                        filename = \"check_epoch_\" + str(epoch) + \"batch_id\" + str(batch_id + 1) + '.pth'\n",
        "                        path = os.path.join(checkpoint_model_dir, filename)\n",
        "                        print('\\nSaving model:', path, '\\n')\n",
        "                        torch.save(self.transformer.state_dict(), path)\n",
        "                        np.savetxt(\"/content/drive/MyDrive/style_save/losses/l_total_history.csv\", l_total_history, delimiter=\",\")\n",
        "                        np.savetxt(\"/content/drive/MyDrive/style_save/losses/l_feat_history.csv\", l_feat_history, delimiter=\",\")\n",
        "                        np.savetxt(\"/content/drive/MyDrive/style_save/losses/l_style_history.csv\", l_style_history, delimiter=\",\")\n",
        "                        np.savetxt(\"/content/drive/MyDrive/style_save/losses/l_total_total_history.csv\", l_feat_total_history, delimiter=\",\")\n",
        "                        np.savetxt(\"/content/drive/MyDrive/style_save/losses/l_feat_total_history.csv\", l_feat_total_history, delimiter=\",\")\n",
        "                        np.savetxt(\"/content/drive/MyDrive/style_save/losses/l_style_total_history.csv\", l_style_total_history, delimiter=\",\")\n",
        "                        #transformer.to(device).train() ?\n",
        "\n",
        "        transformer.eval().cpu()\n",
        "        \n",
        "        if checkpoint_model_dir is not None:\n",
        "            filename = \"check_epoch_\" + str(epoch) + \"batch_id\" + str(batch_id + 1) + '.pth'\n",
        "            path = os.path.join(checkpoint_model_dir, filename)\n",
        "            torch.save(transformer.state_dict(), path)\n",
        "    \n"
      ],
      "id": "YGJrUrlhaMB5",
      "execution_count": 71,
      "outputs": []
    },
    {
      "cell_type": "code",
      "metadata": {
        "id": "WVNoiTNcaMB6"
      },
      "source": [
        "def main():\n",
        "    '''  \n",
        "    Parse args, such as data dir, style image, etc.\n",
        "    Call factory object and train\n",
        "    '''\n",
        "    \n",
        "    #parser = argparse.ArgumentParser(description='Arguments for the training.')\n",
        "\n",
        "    model = StyleTransferFactory(ALI_DATA_DIR, ALI_STYLE_PATH, BATCH_SIZE)\n",
        "    model.train()"
      ],
      "id": "WVNoiTNcaMB6",
      "execution_count": 72,
      "outputs": []
    },
    {
      "cell_type": "code",
      "metadata": {
        "scrolled": true,
        "colab": {
          "base_uri": "https://localhost:8080/",
          "height": 1000
        },
        "id": "IQdC8cJiaMB7",
        "outputId": "832091cb-5fa0-414d-962e-ffac9a451e0b"
      },
      "source": [
        "main()"
      ],
      "id": "IQdC8cJiaMB7",
      "execution_count": 73,
      "outputs": [
        {
          "output_type": "stream",
          "text": [
            "epoch: 0\n",
            "Sat May  1 16:05:25 2021\tEpoch 1:\t[4/16958]\tcontent: 880297.000000\tstyle: 24060.605469\ttotal: 904357.605469\n",
            "Sat May  1 16:05:36 2021\tEpoch 1:\t[8/16958]\tcontent: 840231.937500\tstyle: 18853.376953\ttotal: 859085.314453\n",
            "Sat May  1 16:05:46 2021\tEpoch 1:\t[12/16958]\tcontent: 784633.020833\tstyle: 19888.275391\ttotal: 804521.296224\n",
            "Sat May  1 16:05:57 2021\tEpoch 1:\t[16/16958]\tcontent: 726705.390625\tstyle: 22702.447266\ttotal: 749407.837891\n",
            "Sat May  1 16:06:07 2021\tEpoch 1:\t[20/16958]\tcontent: 727115.812500\tstyle: 21483.453906\ttotal: 748599.266406\n",
            "Sat May  1 16:06:18 2021\tEpoch 1:\t[24/16958]\tcontent: 726448.197917\tstyle: 21370.490560\ttotal: 747818.688477\n",
            "Sat May  1 16:06:28 2021\tEpoch 1:\t[28/16958]\tcontent: 713729.258929\tstyle: 20865.926618\ttotal: 734595.185547\n",
            "Sat May  1 16:06:39 2021\tEpoch 1:\t[32/16958]\tcontent: 714504.500000\tstyle: 20374.876465\ttotal: 734879.376465\n",
            "Sat May  1 16:06:49 2021\tEpoch 1:\t[36/16958]\tcontent: 703643.583333\tstyle: 19559.160048\ttotal: 723202.743381\n",
            "Sat May  1 16:06:59 2021\tEpoch 1:\t[40/16958]\tcontent: 712060.618750\tstyle: 19239.649902\ttotal: 731300.268652\n",
            "Sat May  1 16:07:10 2021\tEpoch 1:\t[44/16958]\tcontent: 683859.286932\tstyle: 19191.878107\ttotal: 703051.165039\n",
            "Sat May  1 16:07:20 2021\tEpoch 1:\t[48/16958]\tcontent: 669949.062500\tstyle: 19339.701904\ttotal: 689288.764404\n",
            "Sat May  1 16:07:30 2021\tEpoch 1:\t[52/16958]\tcontent: 660083.461538\tstyle: 19414.002028\ttotal: 679497.463567\n",
            "Sat May  1 16:07:41 2021\tEpoch 1:\t[56/16958]\tcontent: 650535.857143\tstyle: 19403.029227\ttotal: 669938.886370\n",
            "Sat May  1 16:07:51 2021\tEpoch 1:\t[60/16958]\tcontent: 639940.135417\tstyle: 19727.339388\ttotal: 659667.474805\n",
            "Sat May  1 16:08:02 2021\tEpoch 1:\t[64/16958]\tcontent: 632114.964844\tstyle: 19836.362732\ttotal: 651951.327576\n",
            "Sat May  1 16:08:12 2021\tEpoch 1:\t[68/16958]\tcontent: 634158.562500\tstyle: 20243.096565\ttotal: 654401.659065\n",
            "Sat May  1 16:08:22 2021\tEpoch 1:\t[72/16958]\tcontent: 623492.907986\tstyle: 20418.042372\ttotal: 643910.950358\n",
            "Sat May  1 16:08:33 2021\tEpoch 1:\t[76/16958]\tcontent: 627203.738487\tstyle: 20587.353464\ttotal: 647791.091951\n",
            "Sat May  1 16:08:43 2021\tEpoch 1:\t[80/16958]\tcontent: 635578.151563\tstyle: 20691.204053\ttotal: 656269.355615\n",
            "\n",
            "Saving model: /content/drive/MyDrive/style_save/checkpoints/check_epoch_0batch_id20.pth \n",
            "\n",
            "Sat May  1 16:08:54 2021\tEpoch 1:\t[84/16958]\tcontent: 633555.924107\tstyle: 21025.938384\ttotal: 654581.862491\n",
            "Sat May  1 16:09:04 2021\tEpoch 1:\t[88/16958]\tcontent: 635429.143466\tstyle: 21312.241255\ttotal: 656741.384721\n",
            "Sat May  1 16:09:15 2021\tEpoch 1:\t[92/16958]\tcontent: 636754.267663\tstyle: 21611.684400\ttotal: 658365.952064\n",
            "Sat May  1 16:09:26 2021\tEpoch 1:\t[96/16958]\tcontent: 632639.983073\tstyle: 21692.218465\ttotal: 654332.201538\n",
            "Sat May  1 16:09:36 2021\tEpoch 1:\t[100/16958]\tcontent: 636515.146250\tstyle: 21813.090664\ttotal: 658328.236914\n",
            "Sat May  1 16:09:46 2021\tEpoch 1:\t[104/16958]\tcontent: 627724.212740\tstyle: 21734.873460\ttotal: 649459.086200\n",
            "Sat May  1 16:09:57 2021\tEpoch 1:\t[108/16958]\tcontent: 629461.079861\tstyle: 21910.689996\ttotal: 651371.769857\n",
            "Sat May  1 16:10:07 2021\tEpoch 1:\t[112/16958]\tcontent: 622785.729911\tstyle: 21821.718436\ttotal: 644607.448347\n",
            "Sat May  1 16:10:18 2021\tEpoch 1:\t[116/16958]\tcontent: 621625.437500\tstyle: 21921.072367\ttotal: 643546.509867\n",
            "Sat May  1 16:10:28 2021\tEpoch 1:\t[120/16958]\tcontent: 628409.125000\tstyle: 22034.270866\ttotal: 650443.395866\n",
            "Sat May  1 16:10:38 2021\tEpoch 1:\t[124/16958]\tcontent: 624063.285282\tstyle: 22161.105626\ttotal: 646224.390909\n",
            "Sat May  1 16:10:49 2021\tEpoch 1:\t[128/16958]\tcontent: 622784.567383\tstyle: 22250.650055\ttotal: 645035.217438\n",
            "Sat May  1 16:10:59 2021\tEpoch 1:\t[132/16958]\tcontent: 621135.767992\tstyle: 22367.148881\ttotal: 643502.916874\n",
            "Sat May  1 16:11:10 2021\tEpoch 1:\t[136/16958]\tcontent: 623646.034007\tstyle: 22633.095272\ttotal: 646279.129280\n",
            "Sat May  1 16:11:20 2021\tEpoch 1:\t[140/16958]\tcontent: 623511.274107\tstyle: 22834.512751\ttotal: 646345.786858\n",
            "Sat May  1 16:11:31 2021\tEpoch 1:\t[144/16958]\tcontent: 618739.457465\tstyle: 22779.992269\ttotal: 641519.449734\n",
            "Sat May  1 16:11:41 2021\tEpoch 1:\t[148/16958]\tcontent: 617858.054899\tstyle: 22772.235404\ttotal: 640630.290303\n",
            "Sat May  1 16:11:52 2021\tEpoch 1:\t[152/16958]\tcontent: 613765.237664\tstyle: 22900.950786\ttotal: 636666.188451\n",
            "Sat May  1 16:12:03 2021\tEpoch 1:\t[156/16958]\tcontent: 613097.645032\tstyle: 22897.423803\ttotal: 635995.068835\n",
            "Sat May  1 16:12:13 2021\tEpoch 1:\t[160/16958]\tcontent: 611867.814844\tstyle: 22953.770776\ttotal: 634821.585620\n",
            "\n",
            "Saving model: /content/drive/MyDrive/style_save/checkpoints/check_epoch_0batch_id40.pth \n",
            "\n",
            "Sat May  1 16:12:23 2021\tEpoch 1:\t[164/16958]\tcontent: 611140.589177\tstyle: 23161.693050\ttotal: 634302.282227\n",
            "Sat May  1 16:12:34 2021\tEpoch 1:\t[168/16958]\tcontent: 611497.871280\tstyle: 23338.657668\ttotal: 634836.528948\n",
            "Sat May  1 16:12:44 2021\tEpoch 1:\t[172/16958]\tcontent: 612848.737645\tstyle: 23433.541220\ttotal: 636282.278865\n",
            "Sat May  1 16:12:54 2021\tEpoch 1:\t[176/16958]\tcontent: 611496.602983\tstyle: 23453.061501\ttotal: 634949.664484\n",
            "Sat May  1 16:13:04 2021\tEpoch 1:\t[180/16958]\tcontent: 610371.836806\tstyle: 23533.246289\ttotal: 633905.083095\n",
            "Sat May  1 16:13:15 2021\tEpoch 1:\t[184/16958]\tcontent: 607194.853261\tstyle: 23600.117463\ttotal: 630794.970724\n",
            "Sat May  1 16:13:25 2021\tEpoch 1:\t[188/16958]\tcontent: 606515.094415\tstyle: 23662.004924\ttotal: 630177.099339\n",
            "Sat May  1 16:13:36 2021\tEpoch 1:\t[192/16958]\tcontent: 603882.113281\tstyle: 23549.074036\ttotal: 627431.187317\n",
            "Sat May  1 16:13:46 2021\tEpoch 1:\t[196/16958]\tcontent: 603006.422194\tstyle: 23546.506477\ttotal: 626552.928671\n",
            "Sat May  1 16:13:56 2021\tEpoch 1:\t[200/16958]\tcontent: 603678.598750\tstyle: 23720.782754\ttotal: 627399.381504\n",
            "Sat May  1 16:14:07 2021\tEpoch 1:\t[204/16958]\tcontent: 603035.781863\tstyle: 23900.349743\ttotal: 626936.131606\n",
            "Sat May  1 16:14:17 2021\tEpoch 1:\t[208/16958]\tcontent: 602178.500000\tstyle: 24116.462158\ttotal: 626294.962158\n",
            "Sat May  1 16:14:28 2021\tEpoch 1:\t[212/16958]\tcontent: 598788.870873\tstyle: 24167.888690\ttotal: 622956.759563\n",
            "Sat May  1 16:14:38 2021\tEpoch 1:\t[216/16958]\tcontent: 599214.846644\tstyle: 24261.095938\ttotal: 623475.942582\n",
            "Sat May  1 16:14:48 2021\tEpoch 1:\t[220/16958]\tcontent: 600365.941477\tstyle: 24464.902362\ttotal: 624830.843839\n",
            "Sat May  1 16:14:59 2021\tEpoch 1:\t[224/16958]\tcontent: 597296.701451\tstyle: 24601.619786\ttotal: 621898.321237\n",
            "Sat May  1 16:15:09 2021\tEpoch 1:\t[228/16958]\tcontent: 593935.509868\tstyle: 24704.567486\ttotal: 618640.077354\n",
            "Sat May  1 16:15:19 2021\tEpoch 1:\t[232/16958]\tcontent: 588331.904095\tstyle: 24708.807095\ttotal: 613040.711190\n",
            "Sat May  1 16:15:30 2021\tEpoch 1:\t[236/16958]\tcontent: 588096.599576\tstyle: 24828.803843\ttotal: 612925.403420\n",
            "Sat May  1 16:15:41 2021\tEpoch 1:\t[240/16958]\tcontent: 589363.768750\tstyle: 24909.936735\ttotal: 614273.705485\n",
            "\n",
            "Saving model: /content/drive/MyDrive/style_save/checkpoints/check_epoch_0batch_id60.pth \n",
            "\n",
            "Sat May  1 16:15:51 2021\tEpoch 1:\t[244/16958]\tcontent: 589654.250000\tstyle: 25019.452341\ttotal: 614673.702341\n",
            "Sat May  1 16:16:01 2021\tEpoch 1:\t[248/16958]\tcontent: 587337.071573\tstyle: 25090.733351\ttotal: 612427.804924\n",
            "Sat May  1 16:16:12 2021\tEpoch 1:\t[252/16958]\tcontent: 590006.260913\tstyle: 25353.770570\ttotal: 615360.031483\n",
            "Sat May  1 16:16:22 2021\tEpoch 1:\t[256/16958]\tcontent: 589691.576172\tstyle: 25612.799667\ttotal: 615304.375839\n",
            "Sat May  1 16:16:35 2021\tEpoch 1:\t[260/16958]\tcontent: 589037.229808\tstyle: 25792.870838\ttotal: 614830.100646\n",
            "Sat May  1 16:16:47 2021\tEpoch 1:\t[264/16958]\tcontent: 588931.686553\tstyle: 25894.842137\ttotal: 614826.528690\n",
            "Sat May  1 16:17:00 2021\tEpoch 1:\t[268/16958]\tcontent: 585819.647388\tstyle: 25955.276892\ttotal: 611774.924280\n",
            "Sat May  1 16:17:12 2021\tEpoch 1:\t[272/16958]\tcontent: 585136.541360\tstyle: 26029.017133\ttotal: 611165.558493\n",
            "Sat May  1 16:17:24 2021\tEpoch 1:\t[276/16958]\tcontent: 585309.791667\tstyle: 26119.234701\ttotal: 611429.026367\n",
            "Sat May  1 16:17:36 2021\tEpoch 1:\t[280/16958]\tcontent: 584679.637500\tstyle: 26273.741560\ttotal: 610953.379060\n",
            "Sat May  1 16:17:48 2021\tEpoch 1:\t[284/16958]\tcontent: 584968.796655\tstyle: 26385.672576\ttotal: 611354.469231\n",
            "Sat May  1 16:18:01 2021\tEpoch 1:\t[288/16958]\tcontent: 583793.678819\tstyle: 26477.527059\ttotal: 610271.205878\n",
            "Sat May  1 16:18:13 2021\tEpoch 1:\t[292/16958]\tcontent: 584184.242295\tstyle: 26627.705680\ttotal: 610811.947975\n",
            "Sat May  1 16:18:26 2021\tEpoch 1:\t[296/16958]\tcontent: 585574.919764\tstyle: 26750.715411\ttotal: 612325.635175\n",
            "Sat May  1 16:18:38 2021\tEpoch 1:\t[300/16958]\tcontent: 585320.795000\tstyle: 26869.785039\ttotal: 612190.580039\n",
            "Sat May  1 16:18:51 2021\tEpoch 1:\t[304/16958]\tcontent: 584030.635691\tstyle: 27026.356587\ttotal: 611056.992277\n",
            "Sat May  1 16:19:03 2021\tEpoch 1:\t[308/16958]\tcontent: 583442.533279\tstyle: 27169.683987\ttotal: 610612.217266\n",
            "Sat May  1 16:19:15 2021\tEpoch 1:\t[312/16958]\tcontent: 581600.911458\tstyle: 27245.549216\ttotal: 608846.460675\n",
            "Sat May  1 16:19:28 2021\tEpoch 1:\t[316/16958]\tcontent: 582149.757516\tstyle: 27333.949750\ttotal: 609483.707266\n",
            "Sat May  1 16:19:40 2021\tEpoch 1:\t[320/16958]\tcontent: 582003.311328\tstyle: 27399.038269\ttotal: 609402.349597\n",
            "\n",
            "Saving model: /content/drive/MyDrive/style_save/checkpoints/check_epoch_0batch_id80.pth \n",
            "\n",
            "Sat May  1 16:19:53 2021\tEpoch 1:\t[324/16958]\tcontent: 580793.788966\tstyle: 27479.839446\ttotal: 608273.628412\n",
            "Sat May  1 16:20:06 2021\tEpoch 1:\t[328/16958]\tcontent: 580172.106326\tstyle: 27591.976932\ttotal: 607764.083258\n",
            "Sat May  1 16:20:18 2021\tEpoch 1:\t[332/16958]\tcontent: 579053.275602\tstyle: 27751.656144\ttotal: 606804.931747\n",
            "Sat May  1 16:20:31 2021\tEpoch 1:\t[336/16958]\tcontent: 579047.635417\tstyle: 27817.814628\ttotal: 606865.450044\n",
            "Sat May  1 16:20:44 2021\tEpoch 1:\t[340/16958]\tcontent: 579975.405882\tstyle: 27854.086638\ttotal: 607829.492521\n",
            "Sat May  1 16:20:56 2021\tEpoch 1:\t[344/16958]\tcontent: 578595.247456\tstyle: 27937.868107\ttotal: 606533.115564\n",
            "Sat May  1 16:21:08 2021\tEpoch 1:\t[348/16958]\tcontent: 577043.755388\tstyle: 28019.203495\ttotal: 605062.958883\n",
            "Sat May  1 16:21:21 2021\tEpoch 1:\t[352/16958]\tcontent: 575764.477983\tstyle: 28092.927479\ttotal: 603857.405462\n",
            "Sat May  1 16:21:33 2021\tEpoch 1:\t[356/16958]\tcontent: 575095.363764\tstyle: 28229.028057\ttotal: 603324.391821\n",
            "Sat May  1 16:21:45 2021\tEpoch 1:\t[360/16958]\tcontent: 573732.268750\tstyle: 28313.223231\ttotal: 602045.491981\n",
            "Sat May  1 16:21:59 2021\tEpoch 1:\t[364/16958]\tcontent: 572938.864698\tstyle: 28401.723182\ttotal: 601340.587880\n",
            "Sat May  1 16:22:11 2021\tEpoch 1:\t[368/16958]\tcontent: 573034.798234\tstyle: 28559.741774\ttotal: 601594.540007\n",
            "Sat May  1 16:22:24 2021\tEpoch 1:\t[372/16958]\tcontent: 575776.436156\tstyle: 28776.717794\ttotal: 604553.153950\n",
            "Sat May  1 16:22:36 2021\tEpoch 1:\t[376/16958]\tcontent: 576728.828457\tstyle: 28940.975950\ttotal: 605669.804407\n",
            "Sat May  1 16:22:48 2021\tEpoch 1:\t[380/16958]\tcontent: 576731.140132\tstyle: 29012.566540\ttotal: 605743.706671\n",
            "Sat May  1 16:23:00 2021\tEpoch 1:\t[384/16958]\tcontent: 577927.313151\tstyle: 29119.496714\ttotal: 607046.809865\n",
            "Sat May  1 16:23:13 2021\tEpoch 1:\t[388/16958]\tcontent: 576564.307345\tstyle: 29244.280898\ttotal: 605808.588243\n",
            "Sat May  1 16:23:25 2021\tEpoch 1:\t[392/16958]\tcontent: 575738.474171\tstyle: 29370.899444\ttotal: 605109.373615\n",
            "Sat May  1 16:23:38 2021\tEpoch 1:\t[396/16958]\tcontent: 576667.317235\tstyle: 29504.558406\ttotal: 606171.875641\n",
            "Sat May  1 16:23:50 2021\tEpoch 1:\t[400/16958]\tcontent: 576990.659687\tstyle: 29630.303213\ttotal: 606620.962900\n",
            "\n",
            "Saving model: /content/drive/MyDrive/style_save/checkpoints/check_epoch_0batch_id100.pth \n",
            "\n",
            "Sat May  1 16:24:02 2021\tEpoch 1:\t[404/16958]\tcontent: 577312.849319\tstyle: 29729.418829\ttotal: 607042.268149\n",
            "Sat May  1 16:24:14 2021\tEpoch 1:\t[408/16958]\tcontent: 577408.662684\tstyle: 29955.915987\ttotal: 607364.578671\n",
            "Sat May  1 16:24:28 2021\tEpoch 1:\t[412/16958]\tcontent: 577322.257585\tstyle: 30162.569905\ttotal: 607484.827490\n",
            "Sat May  1 16:24:41 2021\tEpoch 1:\t[416/16958]\tcontent: 575937.362380\tstyle: 30266.776602\ttotal: 606204.138982\n",
            "Sat May  1 16:24:53 2021\tEpoch 1:\t[420/16958]\tcontent: 576025.454167\tstyle: 30376.465485\ttotal: 606401.919652\n",
            "Sat May  1 16:25:06 2021\tEpoch 1:\t[424/16958]\tcontent: 576543.217571\tstyle: 30458.650252\ttotal: 607001.867823\n",
            "Sat May  1 16:25:18 2021\tEpoch 1:\t[428/16958]\tcontent: 577067.699182\tstyle: 30529.427141\ttotal: 607597.126323\n",
            "Sat May  1 16:25:31 2021\tEpoch 1:\t[432/16958]\tcontent: 576848.626157\tstyle: 30631.055239\ttotal: 607479.681396\n",
            "Sat May  1 16:25:43 2021\tEpoch 1:\t[436/16958]\tcontent: 575897.876433\tstyle: 30753.918659\ttotal: 606651.795092\n",
            "Sat May  1 16:25:55 2021\tEpoch 1:\t[440/16958]\tcontent: 575232.400000\tstyle: 30814.201145\ttotal: 606046.601145\n",
            "Sat May  1 16:26:07 2021\tEpoch 1:\t[444/16958]\tcontent: 575177.297297\tstyle: 30931.452606\ttotal: 606108.749903\n",
            "Sat May  1 16:26:19 2021\tEpoch 1:\t[448/16958]\tcontent: 575171.429688\tstyle: 31061.365976\ttotal: 606232.795663\n",
            "Sat May  1 16:26:32 2021\tEpoch 1:\t[452/16958]\tcontent: 575364.976770\tstyle: 31117.149034\ttotal: 606482.125804\n",
            "Sat May  1 16:26:44 2021\tEpoch 1:\t[456/16958]\tcontent: 574374.923794\tstyle: 31208.336117\ttotal: 605583.259911\n",
            "Sat May  1 16:26:56 2021\tEpoch 1:\t[460/16958]\tcontent: 575446.147826\tstyle: 31305.390430\ttotal: 606751.538256\n",
            "Sat May  1 16:27:08 2021\tEpoch 1:\t[464/16958]\tcontent: 576071.564116\tstyle: 31394.106656\ttotal: 607465.670772\n",
            "Sat May  1 16:27:20 2021\tEpoch 1:\t[468/16958]\tcontent: 577368.269765\tstyle: 31497.205103\ttotal: 608865.474868\n",
            "Sat May  1 16:27:32 2021\tEpoch 1:\t[472/16958]\tcontent: 576514.483845\tstyle: 31603.222002\ttotal: 608117.705848\n",
            "Sat May  1 16:27:44 2021\tEpoch 1:\t[476/16958]\tcontent: 577179.385767\tstyle: 31806.972861\ttotal: 608986.358628\n",
            "Sat May  1 16:27:56 2021\tEpoch 1:\t[480/16958]\tcontent: 576819.450260\tstyle: 31905.216545\ttotal: 608724.666805\n",
            "\n",
            "Saving model: /content/drive/MyDrive/style_save/checkpoints/check_epoch_0batch_id120.pth \n",
            "\n",
            "Sat May  1 16:28:08 2021\tEpoch 1:\t[484/16958]\tcontent: 576185.247934\tstyle: 31962.440091\ttotal: 608147.688025\n",
            "Sat May  1 16:28:20 2021\tEpoch 1:\t[488/16958]\tcontent: 576887.356045\tstyle: 32036.183121\ttotal: 608923.539167\n",
            "Sat May  1 16:28:33 2021\tEpoch 1:\t[492/16958]\tcontent: 575381.904980\tstyle: 31984.474856\ttotal: 607366.379835\n",
            "Sat May  1 16:28:45 2021\tEpoch 1:\t[496/16958]\tcontent: 574835.095010\tstyle: 32017.835882\ttotal: 606852.930892\n",
            "Sat May  1 16:28:57 2021\tEpoch 1:\t[500/16958]\tcontent: 575810.217250\tstyle: 32156.756914\ttotal: 607966.974164\n",
            "Sat May  1 16:29:10 2021\tEpoch 1:\t[504/16958]\tcontent: 576766.483383\tstyle: 32287.245233\ttotal: 609053.728616\n",
            "Sat May  1 16:29:22 2021\tEpoch 1:\t[508/16958]\tcontent: 577910.737943\tstyle: 32414.846280\ttotal: 610325.584223\n",
            "Sat May  1 16:29:34 2021\tEpoch 1:\t[512/16958]\tcontent: 577441.528564\tstyle: 32542.039894\ttotal: 609983.568459\n",
            "Sat May  1 16:29:46 2021\tEpoch 1:\t[516/16958]\tcontent: 577493.861192\tstyle: 32646.225056\ttotal: 610140.086248\n",
            "Sat May  1 16:29:58 2021\tEpoch 1:\t[520/16958]\tcontent: 576080.642788\tstyle: 32740.744629\ttotal: 608821.387417\n",
            "Sat May  1 16:30:10 2021\tEpoch 1:\t[524/16958]\tcontent: 576112.998092\tstyle: 32935.512859\ttotal: 609048.510951\n",
            "Sat May  1 16:30:22 2021\tEpoch 1:\t[528/16958]\tcontent: 576131.601326\tstyle: 33030.437064\ttotal: 609162.038389\n",
            "Sat May  1 16:30:34 2021\tEpoch 1:\t[532/16958]\tcontent: 575638.605733\tstyle: 33067.579131\ttotal: 608706.184864\n",
            "Sat May  1 16:30:46 2021\tEpoch 1:\t[536/16958]\tcontent: 573863.855410\tstyle: 33075.931298\ttotal: 606939.786709\n",
            "Sat May  1 16:30:58 2021\tEpoch 1:\t[540/16958]\tcontent: 573906.550463\tstyle: 33171.251714\ttotal: 607077.802177\n",
            "Sat May  1 16:31:10 2021\tEpoch 1:\t[544/16958]\tcontent: 572629.528722\tstyle: 33170.587266\ttotal: 605800.115988\n"
          ],
          "name": "stdout"
        },
        {
          "output_type": "error",
          "ename": "KeyboardInterrupt",
          "evalue": "ignored",
          "traceback": [
            "\u001b[0;31m---------------------------------------------------------------------------\u001b[0m",
            "\u001b[0;31mKeyboardInterrupt\u001b[0m                         Traceback (most recent call last)",
            "\u001b[0;32m<ipython-input-73-263240bbee7e>\u001b[0m in \u001b[0;36m<module>\u001b[0;34m()\u001b[0m\n\u001b[0;32m----> 1\u001b[0;31m \u001b[0mmain\u001b[0m\u001b[0;34m(\u001b[0m\u001b[0;34m)\u001b[0m\u001b[0;34m\u001b[0m\u001b[0;34m\u001b[0m\u001b[0m\n\u001b[0m",
            "\u001b[0;32m<ipython-input-72-8d16891223ff>\u001b[0m in \u001b[0;36mmain\u001b[0;34m()\u001b[0m\n\u001b[1;32m      8\u001b[0m \u001b[0;34m\u001b[0m\u001b[0m\n\u001b[1;32m      9\u001b[0m     \u001b[0mmodel\u001b[0m \u001b[0;34m=\u001b[0m \u001b[0mStyleTransferFactory\u001b[0m\u001b[0;34m(\u001b[0m\u001b[0mALI_DATA_DIR\u001b[0m\u001b[0;34m,\u001b[0m \u001b[0mALI_STYLE_PATH\u001b[0m\u001b[0;34m,\u001b[0m \u001b[0mBATCH_SIZE\u001b[0m\u001b[0;34m)\u001b[0m\u001b[0;34m\u001b[0m\u001b[0;34m\u001b[0m\u001b[0m\n\u001b[0;32m---> 10\u001b[0;31m     \u001b[0mmodel\u001b[0m\u001b[0;34m.\u001b[0m\u001b[0mtrain\u001b[0m\u001b[0;34m(\u001b[0m\u001b[0;34m)\u001b[0m\u001b[0;34m\u001b[0m\u001b[0;34m\u001b[0m\u001b[0m\n\u001b[0m",
            "\u001b[0;32m<ipython-input-71-7aeb8e967994>\u001b[0m in \u001b[0;36mtrain\u001b[0;34m(self)\u001b[0m\n\u001b[1;32m    106\u001b[0m \u001b[0;34m\u001b[0m\u001b[0m\n\u001b[1;32m    107\u001b[0m \u001b[0;34m\u001b[0m\u001b[0m\n\u001b[0;32m--> 108\u001b[0;31m                     \u001b[0ml_total\u001b[0m\u001b[0;34m.\u001b[0m\u001b[0mbackward\u001b[0m\u001b[0;34m(\u001b[0m\u001b[0;34m)\u001b[0m\u001b[0;34m\u001b[0m\u001b[0;34m\u001b[0m\u001b[0m\n\u001b[0m\u001b[1;32m    109\u001b[0m                     \u001b[0moptimizer\u001b[0m\u001b[0;34m.\u001b[0m\u001b[0mstep\u001b[0m\u001b[0;34m(\u001b[0m\u001b[0;34m)\u001b[0m\u001b[0;34m\u001b[0m\u001b[0;34m\u001b[0m\u001b[0m\n\u001b[1;32m    110\u001b[0m \u001b[0;34m\u001b[0m\u001b[0m\n",
            "\u001b[0;32m/usr/local/lib/python3.7/dist-packages/torch/tensor.py\u001b[0m in \u001b[0;36mbackward\u001b[0;34m(self, gradient, retain_graph, create_graph, inputs)\u001b[0m\n\u001b[1;32m    243\u001b[0m                 \u001b[0mcreate_graph\u001b[0m\u001b[0;34m=\u001b[0m\u001b[0mcreate_graph\u001b[0m\u001b[0;34m,\u001b[0m\u001b[0;34m\u001b[0m\u001b[0;34m\u001b[0m\u001b[0m\n\u001b[1;32m    244\u001b[0m                 inputs=inputs)\n\u001b[0;32m--> 245\u001b[0;31m         \u001b[0mtorch\u001b[0m\u001b[0;34m.\u001b[0m\u001b[0mautograd\u001b[0m\u001b[0;34m.\u001b[0m\u001b[0mbackward\u001b[0m\u001b[0;34m(\u001b[0m\u001b[0mself\u001b[0m\u001b[0;34m,\u001b[0m \u001b[0mgradient\u001b[0m\u001b[0;34m,\u001b[0m \u001b[0mretain_graph\u001b[0m\u001b[0;34m,\u001b[0m \u001b[0mcreate_graph\u001b[0m\u001b[0;34m,\u001b[0m \u001b[0minputs\u001b[0m\u001b[0;34m=\u001b[0m\u001b[0minputs\u001b[0m\u001b[0;34m)\u001b[0m\u001b[0;34m\u001b[0m\u001b[0;34m\u001b[0m\u001b[0m\n\u001b[0m\u001b[1;32m    246\u001b[0m \u001b[0;34m\u001b[0m\u001b[0m\n\u001b[1;32m    247\u001b[0m     \u001b[0;32mdef\u001b[0m \u001b[0mregister_hook\u001b[0m\u001b[0;34m(\u001b[0m\u001b[0mself\u001b[0m\u001b[0;34m,\u001b[0m \u001b[0mhook\u001b[0m\u001b[0;34m)\u001b[0m\u001b[0;34m:\u001b[0m\u001b[0;34m\u001b[0m\u001b[0;34m\u001b[0m\u001b[0m\n",
            "\u001b[0;32m/usr/local/lib/python3.7/dist-packages/torch/autograd/__init__.py\u001b[0m in \u001b[0;36mbackward\u001b[0;34m(tensors, grad_tensors, retain_graph, create_graph, grad_variables, inputs)\u001b[0m\n\u001b[1;32m    145\u001b[0m     Variable._execution_engine.run_backward(\n\u001b[1;32m    146\u001b[0m         \u001b[0mtensors\u001b[0m\u001b[0;34m,\u001b[0m \u001b[0mgrad_tensors_\u001b[0m\u001b[0;34m,\u001b[0m \u001b[0mretain_graph\u001b[0m\u001b[0;34m,\u001b[0m \u001b[0mcreate_graph\u001b[0m\u001b[0;34m,\u001b[0m \u001b[0minputs\u001b[0m\u001b[0;34m,\u001b[0m\u001b[0;34m\u001b[0m\u001b[0;34m\u001b[0m\u001b[0m\n\u001b[0;32m--> 147\u001b[0;31m         allow_unreachable=True, accumulate_grad=True)  # allow_unreachable flag\n\u001b[0m\u001b[1;32m    148\u001b[0m \u001b[0;34m\u001b[0m\u001b[0m\n\u001b[1;32m    149\u001b[0m \u001b[0;34m\u001b[0m\u001b[0m\n",
            "\u001b[0;31mKeyboardInterrupt\u001b[0m: "
          ]
        }
      ]
    },
    {
      "cell_type": "markdown",
      "metadata": {
        "id": "lY_MhXk_aMB7"
      },
      "source": [
        "# SCRATCH"
      ],
      "id": "lY_MhXk_aMB7"
    },
    {
      "cell_type": "code",
      "metadata": {
        "id": "vB1f8KDiaMB7"
      },
      "source": [
        "loss_net = VGG16LossNN()\n",
        "transformer = ImageTransformationNN()\n",
        "gen = Generator(ALI_DATA_DIR, BATCH_SIZE)\n",
        "style = load_rgb_img(ALI_STYLE_PATH)"
      ],
      "id": "vB1f8KDiaMB7",
      "execution_count": null,
      "outputs": []
    },
    {
      "cell_type": "code",
      "metadata": {
        "scrolled": true,
        "id": "xzVHer5saMB8"
      },
      "source": [
        "summary(loss_net, (3, 391, 470))"
      ],
      "id": "xzVHer5saMB8",
      "execution_count": null,
      "outputs": []
    },
    {
      "cell_type": "code",
      "metadata": {
        "id": "h9m4HLuTaMB8"
      },
      "source": [
        "summary(transformer, (3, 256, 256))"
      ],
      "id": "h9m4HLuTaMB8",
      "execution_count": null,
      "outputs": []
    },
    {
      "cell_type": "code",
      "metadata": {
        "id": "qIx1KD7ZaMB8"
      },
      "source": [
        "# Parameters ( to be placed in parser )\n",
        "learning_rate = 1e-3 \n",
        "epochs = 2\n",
        "content_weights = 1e5\n",
        "style_weights = 1e10\n",
        "log_interval = 1\n",
        "checkpoint_model_dir = \"model/\"\n",
        "checkpoint_interval = 0\n",
        "#! \n"
      ],
      "id": "qIx1KD7ZaMB8",
      "execution_count": null,
      "outputs": []
    },
    {
      "cell_type": "code",
      "metadata": {
        "id": "PqVv_G8SaMB8"
      },
      "source": [
        "optimizer = Adam(self.transformer.parameters(), learning_rate)\n",
        "\n",
        "mse_loss = MSELoss()\n",
        "\n",
        "style_transform = transforms.Compose([\n",
        "    transforms.ToTensor(),\n",
        "    transforms.Lambda(lambda x: x.mul(255))\n",
        "])\n",
        "\n"
      ],
      "id": "PqVv_G8SaMB8",
      "execution_count": null,
      "outputs": []
    },
    {
      "cell_type": "code",
      "metadata": {
        "id": "V-4x_pFQaMB8"
      },
      "source": [
        "            \n",
        "style = style_transform(self.style)\n",
        "style = style.repeat(BATCH_SIZE, 1, 1, 1)\n",
        "\n",
        "loss_net_input = normalize_batch(style)\n",
        "\n",
        "feature_style = self.loss_net.forward(normalize_batch(style))\n",
        "\n",
        "\"\"\"Verification\"\"\"\n",
        "for key, value in feature_style.items() :\n",
        "    print(key)\n",
        "\n",
        "gram_style = [gram_matrix(y) for y in feature_style.values()]\n",
        "print('GRAM:', gram_style[0].shape)\n",
        "    "
      ],
      "id": "V-4x_pFQaMB8",
      "execution_count": null,
      "outputs": []
    },
    {
      "cell_type": "code",
      "metadata": {
        "id": "fZntY5NOaMB9"
      },
      "source": [
        "a = np.array([12, 13, 42, 53])"
      ],
      "id": "fZntY5NOaMB9",
      "execution_count": 25,
      "outputs": []
    },
    {
      "cell_type": "code",
      "metadata": {
        "id": "RXlwV5UNaMB9"
      },
      "source": [
        "np.savetxt(\"/content/drive/MyDrive/style_save/checkpoints/foo.csv\", a, delimiter=\",\")\n"
      ],
      "id": "RXlwV5UNaMB9",
      "execution_count": 44,
      "outputs": []
    },
    {
      "cell_type": "code",
      "metadata": {
        "colab": {
          "base_uri": "https://localhost:8080/"
        },
        "id": "gxAnflBUaMB9",
        "outputId": "523313e5-e255-4b73-a9f1-76eb5eedc065"
      },
      "source": [
        "np.loadtxt(open(\"/content/drive/MyDrive/style_save/losses/l_total_history.csv\"\", \"rb\"), delimiter=\",\")\n"
      ],
      "id": "gxAnflBUaMB9",
      "execution_count": 43,
      "outputs": [
        {
          "output_type": "execute_result",
          "data": {
            "text/plain": [
              "array([12., 13., 42., 53.])"
            ]
          },
          "metadata": {
            "tags": []
          },
          "execution_count": 43
        }
      ]
    },
    {
      "cell_type": "code",
      "metadata": {
        "id": "v0zSlXkJaMB9"
      },
      "source": [
        ""
      ],
      "id": "v0zSlXkJaMB9",
      "execution_count": null,
      "outputs": []
    }
  ]
}