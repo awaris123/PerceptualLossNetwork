{
 "cells": [
  {
   "cell_type": "code",
   "execution_count": 1,
   "metadata": {},
   "outputs": [],
   "source": [
    "# Pretrauined VGG16\n",
    "# https://pytorch.org/vision/stable/models.html\n",
    "# https://pytorch.org/vision/stable/_modules/torchvision/models/vgg.html#vgg16_bn\n",
    "\n",
    "# May be helpful to run notebook like this to load weights: jupyter notebook --NotebookApp.iopub_data_rate_limit=1.0e10"
   ]
  },
  {
   "cell_type": "code",
   "execution_count": 2,
   "metadata": {},
   "outputs": [],
   "source": [
    "import torch\n",
    "from torchvision.models import vgg16\n"
   ]
  },
  {
   "cell_type": "code",
   "execution_count": 3,
   "metadata": {},
   "outputs": [],
   "source": [
    "class VGG16LossNN(torch.nn.Module):\n",
    "    \n",
    "    '''\n",
    "    VGG16 Feature Layers\n",
    "    \n",
    "    0 Conv2d(3, 64, kernel_size=(3, 3), stride=(1, 1), padding=(1, 1))\n",
    "    1 ReLU(inplace=True)\n",
    "    2 Conv2d(64, 64, kernel_size=(3, 3), stride=(1, 1), padding=(1, 1))\n",
    "    3 ReLU(inplace=True) (RELU1_2)\n",
    "    \n",
    "    4 MaxPool2d(kernel_size=2, stride=2, padding=0, dilation=1, ceil_mode=False)\n",
    "    5 Conv2d(64, 128, kernel_size=(3, 3), stride=(1, 1), padding=(1, 1))\n",
    "    6 ReLU(inplace=True)\n",
    "    7 Conv2d(128, 128, kernel_size=(3, 3), stride=(1, 1), padding=(1, 1))\n",
    "    8 ReLU(inplace=True) (RELU2_2)\n",
    "    \n",
    "    9 MaxPool2d(kernel_size=2, stride=2, padding=0, dilation=1, ceil_mode=False)\n",
    "    10 Conv2d(128, 256, kernel_size=(3, 3), stride=(1, 1), padding=(1, 1))\n",
    "    11 ReLU(inplace=True)\n",
    "    12 Conv2d(256, 256, kernel_size=(3, 3), stride=(1, 1), padding=(1, 1))\n",
    "    13 ReLU(inplace=True)\n",
    "    14 Conv2d(256, 256, kernel_size=(3, 3), stride=(1, 1), padding=(1, 1))\n",
    "    15 ReLU(inplace=True) (RELU3_3)\n",
    "    \n",
    "    16 MaxPool2d(kernel_size=2, stride=2, padding=0, dilation=1, ceil_mode=False)\n",
    "    17 Conv2d(256, 512, kernel_size=(3, 3), stride=(1, 1), padding=(1, 1))\n",
    "    18 ReLU(inplace=True)\n",
    "    19 Conv2d(512, 512, kernel_size=(3, 3), stride=(1, 1), padding=(1, 1))\n",
    "    20 ReLU(inplace=True)\n",
    "    21 Conv2d(512, 512, kernel_size=(3, 3), stride=(1, 1), padding=(1, 1))\n",
    "    22 ReLU(inplace=True) (RELU4_3)\n",
    "    \n",
    "    23 MaxPool2d(kernel_size=2, stride=2, padding=0, dilation=1, ceil_mode=False)\n",
    "    24 Conv2d(512, 512, kernel_size=(3, 3), stride=(1, 1), padding=(1, 1))\n",
    "    25 ReLU(inplace=True)\n",
    "    26 Conv2d(512, 512, kernel_size=(3, 3), stride=(1, 1), padding=(1, 1))\n",
    "    27 ReLU(inplace=True)\n",
    "    28 Conv2d(512, 512, kernel_size=(3, 3), stride=(1, 1), padding=(1, 1))\n",
    "    29 ReLU(inplace=True)\n",
    "    30 MaxPool2d(kernel_size=2, stride=2, padding=0, dilation=1, ceil_mode=False)\n",
    "\n",
    "    '''\n",
    "    \n",
    "    def __init__(self):\n",
    "        super(VGG16LossNN, self).__init__()\n",
    "        \n",
    "        vgg16_features = vgg16(pretrained=True).features\n",
    "        \n",
    "        self.section1 = torch.nn.Sequential()\n",
    "        self.section2 = torch.nn.Sequential()\n",
    "        self.section3 = torch.nn.Sequential()\n",
    "        self.section4 = torch.nn.Sequential()\n",
    "        \n",
    "        for i, module in enumerate(vgg16_features[0:4]):\n",
    "            self.section1.add_module(str(i), module)\n",
    "    \n",
    "        for i, module in enumerate(vgg16_features[4:9]):\n",
    "            self.section2.add_module(str(i+4), module)\n",
    "\n",
    "        for i, module in enumerate(vgg16_features[9:16]):\n",
    "            self.section3.add_module(str(i+9), module)\n",
    "\n",
    "        for i, module in enumerate(vgg16_features[16:23]):\n",
    "            self.section4.add_module(str(i+16), module)\n",
    "        \n",
    "        for param in self.parameters():\n",
    "            param.requires_grad=False\n",
    "        \n",
    "        \n",
    "    def forward(self, X:torch.Tensor) -> dict:\n",
    "        relu1_2 = self.section1(X)\n",
    "        relu2_2 = self.section2(relu1_2)\n",
    "        relu3_3 = self.section3(relu2_2)\n",
    "        relu4_3 = self.section4(relu3_3)\n",
    "        return {\n",
    "            \"relu1_2\":relu1_2,\n",
    "            \"relu2_2\":relu2_2,\n",
    "            \"relu3_3\":relu3_3,\n",
    "            \"relu4_3\":relu4_3,\n",
    "            \n",
    "        }"
   ]
  },
  {
   "cell_type": "code",
   "execution_count": 6,
   "metadata": {},
   "outputs": [
    {
     "data": {
      "text/plain": [
       "VGG16LossNN(\n",
       "  (section1): Sequential(\n",
       "    (0): Conv2d(3, 64, kernel_size=(3, 3), stride=(1, 1), padding=(1, 1))\n",
       "    (1): ReLU(inplace=True)\n",
       "    (2): Conv2d(64, 64, kernel_size=(3, 3), stride=(1, 1), padding=(1, 1))\n",
       "    (3): ReLU(inplace=True)\n",
       "  )\n",
       "  (section2): Sequential(\n",
       "    (4): MaxPool2d(kernel_size=2, stride=2, padding=0, dilation=1, ceil_mode=False)\n",
       "    (5): Conv2d(64, 128, kernel_size=(3, 3), stride=(1, 1), padding=(1, 1))\n",
       "    (6): ReLU(inplace=True)\n",
       "    (7): Conv2d(128, 128, kernel_size=(3, 3), stride=(1, 1), padding=(1, 1))\n",
       "    (8): ReLU(inplace=True)\n",
       "  )\n",
       "  (section3): Sequential(\n",
       "    (9): MaxPool2d(kernel_size=2, stride=2, padding=0, dilation=1, ceil_mode=False)\n",
       "    (10): Conv2d(128, 256, kernel_size=(3, 3), stride=(1, 1), padding=(1, 1))\n",
       "    (11): ReLU(inplace=True)\n",
       "    (12): Conv2d(256, 256, kernel_size=(3, 3), stride=(1, 1), padding=(1, 1))\n",
       "    (13): ReLU(inplace=True)\n",
       "    (14): Conv2d(256, 256, kernel_size=(3, 3), stride=(1, 1), padding=(1, 1))\n",
       "    (15): ReLU(inplace=True)\n",
       "  )\n",
       "  (section4): Sequential(\n",
       "    (16): MaxPool2d(kernel_size=2, stride=2, padding=0, dilation=1, ceil_mode=False)\n",
       "    (17): Conv2d(256, 512, kernel_size=(3, 3), stride=(1, 1), padding=(1, 1))\n",
       "    (18): ReLU(inplace=True)\n",
       "    (19): Conv2d(512, 512, kernel_size=(3, 3), stride=(1, 1), padding=(1, 1))\n",
       "    (20): ReLU(inplace=True)\n",
       "    (21): Conv2d(512, 512, kernel_size=(3, 3), stride=(1, 1), padding=(1, 1))\n",
       "    (22): ReLU(inplace=True)\n",
       "  )\n",
       ")"
      ]
     },
     "execution_count": 6,
     "metadata": {},
     "output_type": "execute_result"
    }
   ],
   "source": [
    "VGG16LossNN()"
   ]
  },
  {
   "cell_type": "code",
   "execution_count": null,
   "metadata": {},
   "outputs": [],
   "source": []
  }
 ],
 "metadata": {
  "kernelspec": {
   "display_name": "Python 3",
   "language": "python",
   "name": "python3"
  },
  "language_info": {
   "codemirror_mode": {
    "name": "ipython",
    "version": 3
   },
   "file_extension": ".py",
   "mimetype": "text/x-python",
   "name": "python",
   "nbconvert_exporter": "python",
   "pygments_lexer": "ipython3",
   "version": "3.7.4"
  }
 },
 "nbformat": 4,
 "nbformat_minor": 5
}
